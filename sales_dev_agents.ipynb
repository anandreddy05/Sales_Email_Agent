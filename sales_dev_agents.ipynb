{
 "cells": [
  {
   "cell_type": "code",
   "execution_count": 7,
   "id": "6d6c4fd2",
   "metadata": {},
   "outputs": [],
   "source": [
    "from dotenv import load_dotenv\n",
    "from agents import Agent, Runner, trace, function_tool\n",
    "from openai.types.responses import ResponseTextDeltaEvent\n",
    "from typing import Dict\n",
    "import sendgrid\n",
    "import os\n",
    "from sendgrid.helpers.mail import Mail, Email, To, Content\n",
    "import asyncio"
   ]
  },
  {
   "cell_type": "code",
   "execution_count": 8,
   "id": "9df6b220",
   "metadata": {},
   "outputs": [
    {
     "data": {
      "text/plain": [
       "True"
      ]
     },
     "execution_count": 8,
     "metadata": {},
     "output_type": "execute_result"
    }
   ],
   "source": [
    "load_dotenv()"
   ]
  },
  {
   "cell_type": "code",
   "execution_count": 9,
   "id": "918b9241",
   "metadata": {},
   "outputs": [],
   "source": [
    "instruction1 = \"You are a sales agent working for ComplAI, \\\n",
    "    a company that provides a SaaS tool for ensuring SOC2 compliance and preparing for audits, powered by AI. \\\n",
    "    You write professiona;, serious emails.\"\n",
    "instruction2 = \"You are a humours, engaging sales agent working for ComplAI, \\\n",
    "    a company that provides a SaaS tool for ensuring SOC2 compliance and preparing for audits, powered by AI.\\\n",
    "    You write witty,engaging cold emails that are likely to get a response.\"\n",
    "instruction3 = \"You are a busy sales agent working for ComplAI, \\\n",
    "    a company that provides a SaaS tool for ensuring SOC2 compliance and preparing for audits, powered by AI.\\\n",
    "    You write concise, to the point cold emails.\""
   ]
  },
  {
   "cell_type": "code",
   "execution_count": 10,
   "id": "7df990db",
   "metadata": {},
   "outputs": [],
   "source": [
    "sales_agent1 = Agent(\n",
    "    name=\"Professional Sales Agent\",\n",
    "    instructions=instruction1,\n",
    "    model=\"gpt-4o-mini\"\n",
    ")\n",
    "sales_agent2 = Agent(\n",
    "    name=\"Engaging Sales Agent\",\n",
    "    instructions=instruction2,\n",
    "    model=\"gpt-4o-mini\"\n",
    ")\n",
    "sales_agent3 = Agent(\n",
    "    name=\"Busy Sales Agent\",\n",
    "    instructions=instruction1,\n",
    "    model=\"gpt-4o-mini\"\n",
    ")"
   ]
  },
  {
   "cell_type": "code",
   "execution_count": null,
   "id": "90a3bace",
   "metadata": {},
   "outputs": [],
   "source": [
    "# result = Runner.run_streamed(sales_agent1, input=\"Write a cold sales email\")\n",
    "# async for event in result.stream_events():\n",
    "#     if event.type == \"eaw_response_event\" and isinstance(event.data, ResponseTextDeltaEvent):\n",
    "#         print(event.data.delta,end = \"\",flush=True)"
   ]
  },
  {
   "cell_type": "code",
   "execution_count": null,
   "id": "7f0406c0",
   "metadata": {},
   "outputs": [
    {
     "name": "stdout",
     "output_type": "stream",
     "text": [
      "Subject: Elevate Your SOC 2 Compliance with ComplAI\n",
      "\n",
      "Dear [Recipient's Name],\n",
      "\n",
      "I hope this message finds you well. My name is [Your Name], and I represent ComplAI, a cutting-edge SaaS solution designed to streamline SOC 2 compliance and audit readiness with the power of AI.\n",
      "\n",
      "As organizations increasingly face scrutiny regarding their data security practices, ensuring seamless compliance can be a daunting challenge. ComplAI not only simplifies this process but also enhances your ability to maintain readiness for audits through automated documentation and real-time monitoring.\n",
      "\n",
      "Here are a few key benefits our platform offers:\n",
      "\n",
      "- **Automated Compliance Tracking**: Reduce the manual workload associated with compliance management.\n",
      "- **AI-Driven Insights**: Gain actionable insights to proactively address compliance gaps.\n",
      "- **Streamlined Audit Preparation**: Ensure your team is always audit-ready with minimized disruptions.\n",
      "\n",
      "I would love the opportunity to discuss how ComplAI can specifically support [Recipient’s Company Name] in achieving its compliance goals. Are you available for a brief call next week?\n",
      "\n",
      "Thank you for considering ComplAI as your compliance partner. I look forward to the possibility of working together.\n",
      "\n",
      "Best regards,\n",
      "\n",
      "[Your Name]  \n",
      "[Your Job Title]  \n",
      "ComplAI  \n",
      "[Your Phone Number]  \n",
      "[Your Email Address]  \n",
      "[Website URL]  \n",
      "\n",
      "\n",
      "==============================\n",
      "Subject: Let’s Make SOC2 Compliance as Easy as Ordering Takeout 🍕✨\n",
      "\n",
      "Hi [Recipient's Name],\n",
      "\n",
      "Ever tried to wade through SOC2 compliance paperwork? It’s a lot like trying to fold a fitted sheet—confusing and almost impossible to get right! 😅\n",
      "\n",
      "But what if I told you that with ComplAI, you can make it as easy as your favorite takeout order? Our AI-powered tool simplifies the entire SOC2 compliance process, helping you prepare for audits without the headache (or the fitted sheets)!\n",
      "\n",
      "Imagine these perks:\n",
      "- **Real-time compliance insights:** It’s like having a compliance guru on speed dial.\n",
      "- **Audits made effortless:** Say goodbye to last-minute scrambles!\n",
      "- **Customizable templates:** Because every business is unique—just like my sock collection.\n",
      "\n",
      "Let’s set up a quick chat (or a virtual coffee—no judgment here!). I promise to keep it fun and productive! How does [insert available times] work for you?\n",
      "\n",
      "Looking forward to turning your compliance chaos into calm!\n",
      "\n",
      "Cheers,  \n",
      "[Your Name]  \n",
      "[Your Position]  \n",
      "ComplAI  \n",
      "[Your Phone Number]  \n",
      "[Your LinkedIn Profile]  \n",
      "\n",
      "P.S. If ‘SOC2’ were a movie, it definitely wouldn’t be a blockbuster—let’s change that together! 🎬\n",
      "\n",
      "\n",
      "==============================\n",
      "Subject: Streamline Your SOC 2 Compliance with ComplAI\n",
      "\n",
      "Dear [Recipient's Name],\n",
      "\n",
      "I hope this message finds you well. I’m reaching out to introduce you to ComplAI, an innovative SaaS tool specifically designed to simplify SOC 2 compliance and enhance your audit preparation processes.\n",
      "\n",
      "At ComplAI, we understand the challenges organizations face in maintaining compliance and addressing the complexities of audits. Our AI-powered platform streamlines documentation, automates compliance tracking, and provides real-time insights, allowing you to focus on your core business while ensuring you meet compliance requirements efficiently.\n",
      "\n",
      "Key benefits of using ComplAI include:\n",
      "\n",
      "- **Automated Workflows**: Reduce the manual effort and time involved in preparing for audits.\n",
      "- **Real-time Insights**: Stay informed with up-to-date compliance status and potential gaps.\n",
      "- **Scalable Solution**: Adapt easily as your business grows and compliance needs evolve.\n",
      "\n",
      "I would love to explore how ComplAI can support your organization in achieving seamless SOC 2 compliance. Would you be available for a brief call next week to discuss this further?\n",
      "\n",
      "Thank you for considering ComplAI. I look forward to the opportunity to connect.\n",
      "\n",
      "Best regards,\n",
      "\n",
      "[Your Name]  \n",
      "[Your Position]  \n",
      "ComplAI  \n",
      "[Your Phone Number]  \n",
      "[Your Email]  \n",
      "[Company Website]  \n",
      "\n",
      "\n",
      "==============================\n"
     ]
    }
   ],
   "source": [
    "message = \"Write a cold sales email\"\n",
    "\n",
    "with trace(\"Parallel cold emails\"):\n",
    "    results = await asyncio.gather(\n",
    "        Runner.run(sales_agent1,message),\n",
    "        Runner.run(sales_agent2,message),\n",
    "        Runner.run(sales_agent3,message)\n",
    "    )\n",
    "\n",
    "outputs = [result.final_output for result in results]\n",
    "\n",
    "for output in outputs:\n",
    "    print(output + \"\\n\\n\")\n",
    "    print(\"=\"*30)"
   ]
  },
  {
   "cell_type": "code",
   "execution_count": 11,
   "id": "5ec4f517",
   "metadata": {},
   "outputs": [],
   "source": [
    "sales_picker = Agent(\n",
    "    name=\"sales_picker\",\n",
    "    instructions=\"You pick the best cold sales email from the given options. \\\n",
    "        Imagine you are a customer and pick the one you are most likely to respond to. \\\n",
    "        Do not give an explination; reply with the selected email only.\"\n",
    ")"
   ]
  },
  {
   "cell_type": "code",
   "execution_count": 11,
   "id": "3aa514b9",
   "metadata": {},
   "outputs": [
    {
     "name": "stdout",
     "output_type": "stream",
     "text": [
      "Best sales email: \n",
      "Subject: Don’t Let SOC2 Compliance Be a Pain in the Audit!\n",
      "\n",
      "Hi [Recipient's Name],\n",
      "\n",
      "Are you ready for the next round of audits, or are you thinking you need a breather (and perhaps a stiff drink)? 🤔\n",
      "\n",
      "At ComplAI, we know that preparing for SOC2 compliance can feel like herding cats while juggling flaming swords—super stressful and not exactly a walk in the park. But what if I told you we have an AI-powered tool that can turn that chaos into a gentle stroll?\n",
      "\n",
      "Our platform helps you simplify compliance processes, automate tedious tasks, and get you audit-ready faster than your morning coffee kicks in. ☕ It’s like having a cheat code for SOC2—minus the awkwardness of entering it in public.\n",
      "\n",
      "Want to see for yourself? I’d love to set up a quick chat (or a virtual coffee, your pick!) to walk you through how we can make compliance feel less like a burden and more like a breeze.\n",
      "\n",
      "Let me know when you’re free, and I promise to bring my best dad jokes along too.\n",
      "\n",
      "Looking forward to lightening your compliance load!\n",
      "\n",
      "Best,  \n",
      "[Your Name]  \n",
      "[Your Position]  \n",
      "ComplAI  \n",
      "[Your Contact Information]\n"
     ]
    }
   ],
   "source": [
    "message = \"Write a cold sales email\"\n",
    "\n",
    "with trace(\"Selecting most relevent emails\"):\n",
    "    results = await asyncio.gather(\n",
    "        Runner.run(sales_agent1,message),\n",
    "        Runner.run(sales_agent2,message),\n",
    "        Runner.run(sales_agent3,message)\n",
    "    )\n",
    "    outputs = [result.final_output for result in results]\n",
    "    \n",
    "    emails = \"Cold sales emails: \\n\\n\".join(outputs)\n",
    "    \n",
    "    best = await Runner.run(sales_picker,emails)\n",
    "    \n",
    "    print(f\"Best sales email: \\n{best.final_output}\")"
   ]
  },
  {
   "cell_type": "code",
   "execution_count": null,
   "id": "e581cd67",
   "metadata": {},
   "outputs": [],
   "source": [
    "# @function_tool\n",
    "# def send_email(body: str):\n",
    "#     \"\"\" Send out an email with the given body to all the sales prospects \"\"\"\n",
    "#     sg = sendgrid.SendGridAPIClient(api_key=os.getenv('SENDGRID_API_KEY'))\n",
    "#     from_email = Email('tycoon1156@gmail.com')\n",
    "#     to_email = To('anandreddy.s3215@gmail.com')\n",
    "#     content = Content(\"text/plain\",body)\n",
    "#     mail = Mail(from_email,to_email,\"Sales email\",content).get()\n",
    "#     response = sg.client.mail.send.post(request_body=mail)\n",
    "#     return {\"status\": \"success\"}"
   ]
  },
  {
   "cell_type": "code",
   "execution_count": 13,
   "id": "56eb58ef",
   "metadata": {},
   "outputs": [],
   "source": [
    "tool1 = sales_agent1.as_tool(tool_name=\"sales_agent1\",tool_description=\"Write a cold sales email\")\n",
    "tool2 = sales_agent2.as_tool(tool_name=\"sales_agent2\",tool_description=\"Write a cold sales email\")\n",
    "tool3 = sales_agent3.as_tool(tool_name=\"sales_agent3\",tool_description=\"Write a cold sales email\")"
   ]
  },
  {
   "cell_type": "code",
   "execution_count": null,
   "id": "0e7b9ad7",
   "metadata": {},
   "outputs": [],
   "source": [
    "# tools = [tool1,tool2,tool3,send_email]"
   ]
  },
  {
   "cell_type": "code",
   "execution_count": null,
   "id": "3bef590b",
   "metadata": {},
   "outputs": [],
   "source": [
    "# instructions =\"You are a sales manager working for ComplAI. You use the tools given to you to generate cold sales emails. \\\n",
    "# You never generate sales emails yourself; you always use the tools. \\\n",
    "# You try all 3 sales_agent tools once before choosing the best one. \\\n",
    "# You pick the single best email and use the send_email tool to send the best email (and only the best email) to the user.\"\n",
    "\n",
    "\n",
    "# sales_manager = Agent(name=\"Sales Manager\", instructions=instructions, tools=tools, model=\"gpt-4o-mini\")\n",
    "\n",
    "# message = \"Send a cold sales email addressed to 'Dear CEO'\"\n",
    "\n",
    "# with trace(\"Sales manager\"):\n",
    "#     result = await Runner.run(sales_manager, message)"
   ]
  },
  {
   "cell_type": "code",
   "execution_count": 20,
   "id": "75364c0a",
   "metadata": {},
   "outputs": [],
   "source": [
    "subject_instruction = \"You can write a subject for a cold email. \\\n",
    "    You are given a message and you need to write a subject for an email that is likely to get a response.\"\n",
    "    \n",
    "html_instruction = 'You can convert a text email body to an HTML email body. \\\n",
    "    You are given a text email body which n=might have some markdown \\\n",
    "    and you need to convert it to an HTML email body with simple, clear, compelling layout and design.'\n",
    "\n",
    "subject_writer = Agent(name=\"Email subject writer\",\n",
    "                       instructions=subject_instruction,\n",
    "                       model=\"gpt-4o-mini\")\n",
    "html_converter = Agent(name=\"HTML converter\",\n",
    "                       instructions=html_instruction,\n",
    "                       model= \"gpt-4o-mini\")\n",
    "\n",
    "subject_tool = subject_writer.as_tool(tool_name='subject_writer',\n",
    "                                      tool_description=\"Write a subject for a cold sales email.\")\n",
    "html_tool = html_converter.as_tool(tool_name=\"html_converter\",\n",
    "                                   tool_description=\"Convert a text email body to an HTML email body\")\n",
    "\n"
   ]
  },
  {
   "cell_type": "code",
   "execution_count": 23,
   "id": "b5bb10c0",
   "metadata": {},
   "outputs": [],
   "source": [
    "@function_tool\n",
    "def send_html_email(subject:str,html_body:str) -> Dict[str,str]:\n",
    "    \"\"\" Send out an email with the given subject and HTML body to all sales prospects \"\"\"\n",
    "    sg = sendgrid.SendGridAPIClient(api_key=os.getenv(\"SENDGRIP_API_KEY\"))\n",
    "    from_email = Email('tycoon1156@gmail.com')\n",
    "    to_email = To('anandreddy.s3215@gmail.com')\n",
    "    content = Content(\"text/html\",html_body)\n",
    "    mail = Mail(from_email,to_email,subject, content).get()\n",
    "    response = sg.client.mail.send.post(request_body=mail)\n",
    "    return {\"status\":\"success\"}"
   ]
  },
  {
   "cell_type": "code",
   "execution_count": 24,
   "id": "796bf562",
   "metadata": {},
   "outputs": [],
   "source": [
    "tools = [subject_tool,html_tool,send_html_email]"
   ]
  },
  {
   "cell_type": "code",
   "execution_count": 25,
   "id": "84c2b4ee",
   "metadata": {},
   "outputs": [
    {
     "data": {
      "text/plain": [
       "[FunctionTool(name='subject_writer', description='Write a subject for a cold sales email.', params_json_schema={'properties': {'input': {'title': 'Input', 'type': 'string'}}, 'required': ['input'], 'title': 'subject_writer_args', 'type': 'object', 'additionalProperties': False}, on_invoke_tool=<function function_tool.<locals>._create_function_tool.<locals>._on_invoke_tool at 0x0000020DE159F600>, strict_json_schema=True, is_enabled=True),\n",
       " FunctionTool(name='html_converter', description='Convert a text email body to an HTML email body', params_json_schema={'properties': {'input': {'title': 'Input', 'type': 'string'}}, 'required': ['input'], 'title': 'html_converter_args', 'type': 'object', 'additionalProperties': False}, on_invoke_tool=<function function_tool.<locals>._create_function_tool.<locals>._on_invoke_tool at 0x0000020DE4660540>, strict_json_schema=True, is_enabled=True),\n",
       " FunctionTool(name='send_html_email', description='Send out an email with the given subject and HTML body to all sales prospects', params_json_schema={'properties': {'subject': {'title': 'Subject', 'type': 'string'}, 'html_body': {'title': 'Html Body', 'type': 'string'}}, 'required': ['subject', 'html_body'], 'title': 'send_html_email_args', 'type': 'object', 'additionalProperties': False}, on_invoke_tool=<function function_tool.<locals>._create_function_tool.<locals>._on_invoke_tool at 0x0000020DE46FEDE0>, strict_json_schema=True, is_enabled=True)]"
      ]
     },
     "execution_count": 25,
     "metadata": {},
     "output_type": "execute_result"
    }
   ],
   "source": [
    "tools"
   ]
  },
  {
   "cell_type": "code",
   "execution_count": 28,
   "id": "f11de860",
   "metadata": {},
   "outputs": [],
   "source": [
    "instructions = \"You are an email formattor and sender. You receive the body of an email to be sent. \\\n",
    "You first use the subject_tool to write the subject for the email, then use the html_converter tool to convert the bosy to an HTML. \\\n",
    "Finally, you use the send_html_email tool to send the email with the subject and HTML body.\"\n",
    "    \n",
    "email_agent = Agent(\n",
    "    name=\"Email Manager\",\n",
    "    instructions=instructions,\n",
    "    tools=tools,\n",
    "    model=\"gpt-4o-mini\",\n",
    "    handoff_description=\"Convert an email to HTML and send it\"\n",
    ")"
   ]
  },
  {
   "cell_type": "code",
   "execution_count": 32,
   "id": "55bc7e35",
   "metadata": {},
   "outputs": [],
   "source": [
    "tools = [tool1,tool2,tool3]\n",
    "handoffs = [email_agent]"
   ]
  },
  {
   "cell_type": "code",
   "execution_count": 35,
   "id": "06be3fd1",
   "metadata": {},
   "outputs": [],
   "source": [
    "sales_manager_instructions = \"You are a sales manager working for ComplAI. You use the tools given to you to generate cold sales emails. \\\n",
    "You never generate sales emails yourself; you always use the tools. \\\n",
    "You try all 3 sales agent tools at least once before choosing the best one. \\\n",
    "You can use the tools multiple times if you're not satisfied with the results from the first try. \\\n",
    "You select the single best email using your own judgement of which email will be most effective. \\\n",
    "After picking the email, you handoff to the Email Manager agent to format and send the email.\"\n",
    "\n",
    "sales_manager = Agent(\n",
    "    name=\"Sales Manager\",\n",
    "    instructions=sales_manager_instructions,\n",
    "    tools=tools,\n",
    "    handoffs=handoffs,\n",
    "    model=\"gpt-4o-mini\"\n",
    ")\n",
    "\n",
    "message = \"Send out a cold sales email addressed to Dear Anand from Ajay\""
   ]
  },
  {
   "cell_type": "code",
   "execution_count": 36,
   "id": "31bcad30",
   "metadata": {},
   "outputs": [],
   "source": [
    "with trace(\"Automated Emails\"):\n",
    "    result = await Runner.run(sales_manager,message)"
   ]
  }
 ],
 "metadata": {
  "kernelspec": {
   "display_name": "agents",
   "language": "python",
   "name": "python3"
  },
  "language_info": {
   "codemirror_mode": {
    "name": "ipython",
    "version": 3
   },
   "file_extension": ".py",
   "mimetype": "text/x-python",
   "name": "python",
   "nbconvert_exporter": "python",
   "pygments_lexer": "ipython3",
   "version": "3.12.7"
  }
 },
 "nbformat": 4,
 "nbformat_minor": 5
}
